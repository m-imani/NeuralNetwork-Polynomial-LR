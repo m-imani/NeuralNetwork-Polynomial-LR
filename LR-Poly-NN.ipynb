{
 "cells": [
  {
   "cell_type": "code",
   "execution_count": 25,
   "metadata": {},
   "outputs": [],
   "source": [
    "# Generate data points\n",
    "\n",
    "#a. Establish a linear regression model to predict y data.\n",
    "\n",
    "#b. Establish a polynomial model with highest power of 2 to predict y data.\n",
    "\n",
    "#c. Establish a three-layer (including input, 1 hidden (6 nodes) and output layer) neural network to predict y data. \n",
    "\n",
    "#d. Calculate and compare mean squared errors of three models in (a), (b) and (c).\n",
    "\n",
    "#e. Plot data points and curve of predictions in (a) and (b)."
   ]
  },
  {
   "cell_type": "code",
   "execution_count": 26,
   "metadata": {},
   "outputs": [],
   "source": [
    "from sklearn.metrics import mean_squared_error\n",
    "from sklearn import linear_model\n",
    "import pandas as pd\n",
    "import numpy as np\n",
    "import matplotlib.pyplot as plt\n",
    "import seaborn as sns\n",
    "from sklearn.model_selection import train_test_split\n",
    "\n",
    "%matplotlib inline "
   ]
  },
  {
   "cell_type": "code",
   "execution_count": 3,
   "metadata": {},
   "outputs": [],
   "source": [
    "x_data = np.linspace(-0.5, 0.5, 200)[:, np.newaxis]\n",
    "noise = np.random.normal(0, 0.02, x_data.shape)\n",
    "y_data = np.square(x_data) + noise"
   ]
  },
  {
   "cell_type": "code",
   "execution_count": 4,
   "metadata": {},
   "outputs": [
    {
     "data": {
      "text/plain": [
       "LinearRegression()"
      ]
     },
     "execution_count": 4,
     "metadata": {},
     "output_type": "execute_result"
    }
   ],
   "source": [
    "# a\n",
    "# Building Model\n",
    "lr = linear_model.LinearRegression()\n",
    "\n",
    "# Training Model\n",
    "lr.fit(x_data.reshape(-1,1),y_data.reshape(-1,1))"
   ]
  },
  {
   "cell_type": "code",
   "execution_count": 5,
   "metadata": {},
   "outputs": [],
   "source": [
    "#Predicting phase\n",
    "yhat=lr.predict(x_data.reshape(-1,1))"
   ]
  },
  {
   "cell_type": "code",
   "execution_count": 6,
   "metadata": {},
   "outputs": [
    {
     "name": "stdout",
     "output_type": "stream",
     "text": [
      "Mean Squared Error: 0.005961980133794211\n"
     ]
    }
   ],
   "source": [
    "# d- for linear regression model (a)\n",
    "print('Mean Squared Error:', mean_squared_error(y_data,yhat))"
   ]
  },
  {
   "cell_type": "code",
   "execution_count": 7,
   "metadata": {},
   "outputs": [
    {
     "data": {
      "text/plain": [
       "Pipeline(steps=[('polynomial', PolynomialFeatures()),\n",
       "                ('modal', LinearRegression())])"
      ]
     },
     "execution_count": 7,
     "metadata": {},
     "output_type": "execute_result"
    }
   ],
   "source": [
    "# b \n",
    "# importing libraries for polynomial transform\n",
    "from sklearn.preprocessing import PolynomialFeatures\n",
    "# for creating pipeline\n",
    "from sklearn.pipeline import Pipeline\n",
    "from sklearn.linear_model import LinearRegression\n",
    "# creating pipeline and fitting it on data\n",
    "Input=[('polynomial',PolynomialFeatures(degree=2)),('modal',LinearRegression())]\n",
    "pipe=Pipeline(Input)\n",
    "pipe.fit(x_data.reshape(-1,1),y_data.reshape(-1,1))"
   ]
  },
  {
   "cell_type": "code",
   "execution_count": 8,
   "metadata": {},
   "outputs": [],
   "source": [
    "poly_hat=pipe.predict(x_data.reshape(-1,1))"
   ]
  },
  {
   "cell_type": "code",
   "execution_count": 9,
   "metadata": {},
   "outputs": [
    {
     "name": "stdout",
     "output_type": "stream",
     "text": [
      "Mean Squared Error: 0.00039102911736128447\n"
     ]
    }
   ],
   "source": [
    "# d- for polynomial model (b)\n",
    "print('Mean Squared Error:', mean_squared_error(y_data,poly_hat))"
   ]
  },
  {
   "cell_type": "code",
   "execution_count": 10,
   "metadata": {},
   "outputs": [],
   "source": [
    "#!pip3 install keras==2.3.1"
   ]
  },
  {
   "cell_type": "code",
   "execution_count": 11,
   "metadata": {},
   "outputs": [],
   "source": [
    "#!pip3 install git+https://www.github.com/keras-team/keras-contrib.git"
   ]
  },
  {
   "cell_type": "code",
   "execution_count": 12,
   "metadata": {},
   "outputs": [],
   "source": [
    "#!pip3 install --upgrade --user tensorflow\n",
    "#!pip3 install --upgrade --user tensorflow-gpu"
   ]
  },
  {
   "cell_type": "code",
   "execution_count": 13,
   "metadata": {},
   "outputs": [
    {
     "name": "stderr",
     "output_type": "stream",
     "text": [
      "Using TensorFlow backend.\n"
     ]
    }
   ],
   "source": [
    "# c - building three-layer neural network with keras\n",
    "from tensorflow import keras\n",
    "from keras.models import Sequential\n",
    "from keras.layers import Dense\n",
    "model = Sequential()\n",
    "\n",
    "model.add(Dense(1, input_dim=1, kernel_initializer = 'uniform', activation='relu'))\n",
    "model.add(Dense(6, kernel_initializer = 'uniform', activation='relu'))\n",
    "model.add(Dense(1, kernel_initializer='lecun_normal', activation='linear'))"
   ]
  },
  {
   "cell_type": "code",
   "execution_count": 14,
   "metadata": {},
   "outputs": [
    {
     "name": "stdout",
     "output_type": "stream",
     "text": [
      "number of test samples: 40\n",
      "number of training samples: 160\n"
     ]
    }
   ],
   "source": [
    "x_train, x_test, y_train, y_test = train_test_split(x_data, y_data, test_size=0.20, random_state=0)\n",
    "print('number of test samples:', x_test.shape[0])\n",
    "print('number of training samples:', x_train.shape[0])"
   ]
  },
  {
   "cell_type": "code",
   "execution_count": 15,
   "metadata": {},
   "outputs": [],
   "source": [
    "from keras import optimizers\n",
    "import tensorflow as tf\n",
    "tf.keras.losses.MeanSquaredError(reduction=\"auto\", name=\"mean_squared_error\")\n",
    "\n",
    "model.compile(optimizer='adam', loss=tf.keras.losses.MeanSquaredError())"
   ]
  },
  {
   "cell_type": "code",
   "execution_count": 16,
   "metadata": {},
   "outputs": [
    {
     "name": "stdout",
     "output_type": "stream",
     "text": [
      "Epoch 1/150\n",
      "160/160 [==============================] - 0s 873us/step - loss: 0.0105\n",
      "Epoch 2/150\n",
      "160/160 [==============================] - 0s 156us/step - loss: 0.0073\n",
      "Epoch 3/150\n",
      "160/160 [==============================] - 0s 191us/step - loss: 0.0061\n",
      "Epoch 4/150\n",
      "160/160 [==============================] - 0s 170us/step - loss: 0.0059\n",
      "Epoch 5/150\n",
      "160/160 [==============================] - 0s 169us/step - loss: 0.0059\n",
      "Epoch 6/150\n",
      "160/160 [==============================] - 0s 175us/step - loss: 0.0059\n",
      "Epoch 7/150\n",
      "160/160 [==============================] - 0s 185us/step - loss: 0.0059\n",
      "Epoch 8/150\n",
      "160/160 [==============================] - 0s 181us/step - loss: 0.0059\n",
      "Epoch 9/150\n",
      "160/160 [==============================] - 0s 163us/step - loss: 0.0059\n",
      "Epoch 10/150\n",
      "160/160 [==============================] - 0s 163us/step - loss: 0.0059\n",
      "Epoch 11/150\n",
      "160/160 [==============================] - 0s 181us/step - loss: 0.0059\n",
      "Epoch 12/150\n",
      "160/160 [==============================] - 0s 188us/step - loss: 0.0059\n",
      "Epoch 13/150\n",
      "160/160 [==============================] - 0s 185us/step - loss: 0.0059\n",
      "Epoch 14/150\n",
      "160/160 [==============================] - 0s 188us/step - loss: 0.0059\n",
      "Epoch 15/150\n",
      "160/160 [==============================] - 0s 163us/step - loss: 0.0059\n",
      "Epoch 16/150\n",
      "160/160 [==============================] - 0s 281us/step - loss: 0.0059\n",
      "Epoch 17/150\n",
      "160/160 [==============================] - 0s 200us/step - loss: 0.0059\n",
      "Epoch 18/150\n",
      "160/160 [==============================] - 0s 156us/step - loss: 0.0059\n",
      "Epoch 19/150\n",
      "160/160 [==============================] - 0s 178us/step - loss: 0.0059\n",
      "Epoch 20/150\n",
      "160/160 [==============================] - 0s 194us/step - loss: 0.0059\n",
      "Epoch 21/150\n",
      "160/160 [==============================] - 0s 175us/step - loss: 0.0059\n",
      "Epoch 22/150\n",
      "160/160 [==============================] - 0s 163us/step - loss: 0.0059\n",
      "Epoch 23/150\n",
      "160/160 [==============================] - 0s 253us/step - loss: 0.0059\n",
      "Epoch 24/150\n",
      "160/160 [==============================] - 0s 206us/step - loss: 0.0059\n",
      "Epoch 25/150\n",
      "160/160 [==============================] - 0s 160us/step - loss: 0.0059\n",
      "Epoch 26/150\n",
      "160/160 [==============================] - 0s 169us/step - loss: 0.0059\n",
      "Epoch 27/150\n",
      "160/160 [==============================] - 0s 188us/step - loss: 0.0059\n",
      "Epoch 28/150\n",
      "160/160 [==============================] - 0s 160us/step - loss: 0.0059\n",
      "Epoch 29/150\n",
      "160/160 [==============================] - 0s 163us/step - loss: 0.0059\n",
      "Epoch 30/150\n",
      "160/160 [==============================] - 0s 194us/step - loss: 0.0059\n",
      "Epoch 31/150\n",
      "160/160 [==============================] - 0s 175us/step - loss: 0.0059\n",
      "Epoch 32/150\n",
      "160/160 [==============================] - 0s 175us/step - loss: 0.0059\n",
      "Epoch 33/150\n",
      "160/160 [==============================] - 0s 181us/step - loss: 0.0059\n",
      "Epoch 34/150\n",
      "160/160 [==============================] - 0s 188us/step - loss: 0.0059\n",
      "Epoch 35/150\n",
      "160/160 [==============================] - 0s 186us/step - loss: 0.0059\n",
      "Epoch 36/150\n",
      "160/160 [==============================] - 0s 181us/step - loss: 0.0059\n",
      "Epoch 37/150\n",
      "160/160 [==============================] - 0s 163us/step - loss: 0.0059\n",
      "Epoch 38/150\n",
      "160/160 [==============================] - 0s 156us/step - loss: 0.0059\n",
      "Epoch 39/150\n",
      "160/160 [==============================] - 0s 169us/step - loss: 0.0059\n",
      "Epoch 40/150\n",
      "160/160 [==============================] - 0s 181us/step - loss: 0.0059\n",
      "Epoch 41/150\n",
      "160/160 [==============================] - 0s 194us/step - loss: 0.0059\n",
      "Epoch 42/150\n",
      "160/160 [==============================] - 0s 169us/step - loss: 0.0059\n",
      "Epoch 43/150\n",
      "160/160 [==============================] - 0s 188us/step - loss: 0.0059\n",
      "Epoch 44/150\n",
      "160/160 [==============================] - 0s 156us/step - loss: 0.0059\n",
      "Epoch 45/150\n",
      "160/160 [==============================] - 0s 188us/step - loss: 0.0059\n",
      "Epoch 46/150\n",
      "160/160 [==============================] - 0s 194us/step - loss: 0.0059\n",
      "Epoch 47/150\n",
      "160/160 [==============================] - 0s 241us/step - loss: 0.0059\n",
      "Epoch 48/150\n",
      "160/160 [==============================] - 0s 169us/step - loss: 0.0059\n",
      "Epoch 49/150\n",
      "160/160 [==============================] - 0s 175us/step - loss: 0.0059\n",
      "Epoch 50/150\n",
      "160/160 [==============================] - 0s 172us/step - loss: 0.0059\n",
      "Epoch 51/150\n",
      "160/160 [==============================] - 0s 208us/step - loss: 0.0059\n",
      "Epoch 52/150\n",
      "160/160 [==============================] - 0s 163us/step - loss: 0.0059\n",
      "Epoch 53/150\n",
      "160/160 [==============================] - 0s 203us/step - loss: 0.0059\n",
      "Epoch 54/150\n",
      "160/160 [==============================] - 0s 210us/step - loss: 0.0059\n",
      "Epoch 55/150\n",
      "160/160 [==============================] - 0s 194us/step - loss: 0.0059\n",
      "Epoch 56/150\n",
      "160/160 [==============================] - 0s 153us/step - loss: 0.0059\n",
      "Epoch 57/150\n",
      "160/160 [==============================] - 0s 145us/step - loss: 0.0059\n",
      "Epoch 58/150\n",
      "160/160 [==============================] - 0s 256us/step - loss: 0.0059\n",
      "Epoch 59/150\n",
      "160/160 [==============================] - 0s 175us/step - loss: 0.0059\n",
      "Epoch 60/150\n",
      "160/160 [==============================] - 0s 150us/step - loss: 0.0059\n",
      "Epoch 61/150\n",
      "160/160 [==============================] - 0s 150us/step - loss: 0.0059\n",
      "Epoch 62/150\n",
      "160/160 [==============================] - 0s 163us/step - loss: 0.0059\n",
      "Epoch 63/150\n",
      "160/160 [==============================] - 0s 141us/step - loss: 0.0059\n",
      "Epoch 64/150\n",
      "160/160 [==============================] - 0s 156us/step - loss: 0.0059\n",
      "Epoch 65/150\n",
      "160/160 [==============================] - 0s 144us/step - loss: 0.0059\n",
      "Epoch 66/150\n",
      "160/160 [==============================] - 0s 150us/step - loss: 0.0059\n",
      "Epoch 67/150\n",
      "160/160 [==============================] - 0s 147us/step - loss: 0.0059\n",
      "Epoch 68/150\n",
      "160/160 [==============================] - 0s 141us/step - loss: 0.0059\n",
      "Epoch 69/150\n",
      "160/160 [==============================] - 0s 163us/step - loss: 0.0059\n",
      "Epoch 70/150\n",
      "160/160 [==============================] - 0s 144us/step - loss: 0.0059\n",
      "Epoch 71/150\n",
      "160/160 [==============================] - 0s 156us/step - loss: 0.0059\n",
      "Epoch 72/150\n",
      "160/160 [==============================] - 0s 144us/step - loss: 0.0059\n",
      "Epoch 73/150\n",
      "160/160 [==============================] - 0s 144us/step - loss: 0.0059\n",
      "Epoch 74/150\n",
      "160/160 [==============================] - 0s 156us/step - loss: 0.0059\n",
      "Epoch 75/150\n",
      "160/160 [==============================] - 0s 135us/step - loss: 0.0059\n",
      "Epoch 76/150\n",
      "160/160 [==============================] - 0s 156us/step - loss: 0.0059\n",
      "Epoch 77/150\n",
      "160/160 [==============================] - 0s 150us/step - loss: 0.0059\n",
      "Epoch 78/150\n",
      "160/160 [==============================] - 0s 166us/step - loss: 0.0059\n",
      "Epoch 79/150\n",
      "160/160 [==============================] - 0s 178us/step - loss: 0.0059\n",
      "Epoch 80/150\n",
      "160/160 [==============================] - 0s 150us/step - loss: 0.0059\n",
      "Epoch 81/150\n",
      "160/160 [==============================] - 0s 181us/step - loss: 0.0059\n",
      "Epoch 82/150\n",
      "160/160 [==============================] - 0s 206us/step - loss: 0.0059\n",
      "Epoch 83/150\n",
      "160/160 [==============================] - 0s 150us/step - loss: 0.0059\n",
      "Epoch 84/150\n",
      "160/160 [==============================] - 0s 144us/step - loss: 0.0059\n",
      "Epoch 85/150\n",
      "160/160 [==============================] - 0s 156us/step - loss: 0.0059\n",
      "Epoch 86/150\n",
      "160/160 [==============================] - 0s 161us/step - loss: 0.0059\n",
      "Epoch 87/150\n",
      "160/160 [==============================] - 0s 150us/step - loss: 0.0059\n",
      "Epoch 88/150\n",
      "160/160 [==============================] - 0s 144us/step - loss: 0.0059\n",
      "Epoch 89/150\n",
      "160/160 [==============================] - 0s 163us/step - loss: 0.0059\n",
      "Epoch 90/150\n",
      "160/160 [==============================] - 0s 172us/step - loss: 0.0059\n",
      "Epoch 91/150\n",
      "160/160 [==============================] - 0s 156us/step - loss: 0.0059\n",
      "Epoch 92/150\n",
      "160/160 [==============================] - 0s 169us/step - loss: 0.0059\n",
      "Epoch 93/150\n",
      "160/160 [==============================] - 0s 142us/step - loss: 0.0059\n",
      "Epoch 94/150\n",
      "160/160 [==============================] - 0s 150us/step - loss: 0.0059\n",
      "Epoch 95/150\n",
      "160/160 [==============================] - 0s 144us/step - loss: 0.0059\n",
      "Epoch 96/150\n",
      "160/160 [==============================] - 0s 147us/step - loss: 0.0059\n",
      "Epoch 97/150\n",
      "160/160 [==============================] - 0s 153us/step - loss: 0.0059\n",
      "Epoch 98/150\n",
      "160/160 [==============================] - 0s 150us/step - loss: 0.0059\n",
      "Epoch 99/150\n",
      "160/160 [==============================] - 0s 150us/step - loss: 0.0059\n",
      "Epoch 100/150\n",
      "160/160 [==============================] - 0s 141us/step - loss: 0.0059\n",
      "Epoch 101/150\n",
      "160/160 [==============================] - 0s 149us/step - loss: 0.0059\n",
      "Epoch 102/150\n",
      "160/160 [==============================] - 0s 138us/step - loss: 0.0059\n",
      "Epoch 103/150\n",
      "160/160 [==============================] - 0s 150us/step - loss: 0.0059\n",
      "Epoch 104/150\n",
      "160/160 [==============================] - 0s 144us/step - loss: 0.0059\n",
      "Epoch 105/150\n",
      "160/160 [==============================] - 0s 160us/step - loss: 0.0059\n",
      "Epoch 106/150\n",
      "160/160 [==============================] - 0s 138us/step - loss: 0.0059\n",
      "Epoch 107/150\n",
      "160/160 [==============================] - 0s 150us/step - loss: 0.0059\n",
      "Epoch 108/150\n",
      "160/160 [==============================] - 0s 147us/step - loss: 0.0059\n",
      "Epoch 109/150\n",
      "160/160 [==============================] - 0s 131us/step - loss: 0.0059\n",
      "Epoch 110/150\n",
      "160/160 [==============================] - 0s 181us/step - loss: 0.0059\n",
      "Epoch 111/150\n",
      "160/160 [==============================] - 0s 131us/step - loss: 0.0059\n",
      "Epoch 112/150\n",
      "160/160 [==============================] - 0s 156us/step - loss: 0.0059\n",
      "Epoch 113/150\n",
      "160/160 [==============================] - 0s 134us/step - loss: 0.0059\n",
      "Epoch 114/150\n",
      "160/160 [==============================] - 0s 194us/step - loss: 0.0059\n",
      "Epoch 115/150\n",
      "160/160 [==============================] - 0s 150us/step - loss: 0.0059\n",
      "Epoch 116/150\n",
      "160/160 [==============================] - 0s 160us/step - loss: 0.0059\n",
      "Epoch 117/150\n",
      "160/160 [==============================] - 0s 138us/step - loss: 0.0059\n",
      "Epoch 118/150\n",
      "160/160 [==============================] - 0s 150us/step - loss: 0.0059\n",
      "Epoch 119/150\n",
      "160/160 [==============================] - 0s 203us/step - loss: 0.0059\n",
      "Epoch 120/150\n",
      "160/160 [==============================] - 0s 163us/step - loss: 0.0059\n",
      "Epoch 121/150\n",
      "160/160 [==============================] - 0s 150us/step - loss: 0.0059\n",
      "Epoch 122/150\n",
      "160/160 [==============================] - 0s 175us/step - loss: 0.0059\n",
      "Epoch 123/150\n",
      "160/160 [==============================] - 0s 143us/step - loss: 0.0059\n",
      "Epoch 124/150\n",
      "160/160 [==============================] - 0s 206us/step - loss: 0.0059\n",
      "Epoch 125/150\n",
      "160/160 [==============================] - 0s 206us/step - loss: 0.0059\n",
      "Epoch 126/150\n",
      "160/160 [==============================] - 0s 172us/step - loss: 0.0059\n",
      "Epoch 127/150\n",
      "160/160 [==============================] - 0s 181us/step - loss: 0.0059\n",
      "Epoch 128/150\n",
      "160/160 [==============================] - 0s 175us/step - loss: 0.0059\n",
      "Epoch 129/150\n",
      "160/160 [==============================] - 0s 197us/step - loss: 0.0059\n",
      "Epoch 130/150\n",
      "160/160 [==============================] - 0s 189us/step - loss: 0.0059\n",
      "Epoch 131/150\n",
      "160/160 [==============================] - 0s 175us/step - loss: 0.0059\n",
      "Epoch 132/150\n",
      "160/160 [==============================] - 0s 175us/step - loss: 0.0059\n",
      "Epoch 133/150\n",
      "160/160 [==============================] - 0s 222us/step - loss: 0.0059\n",
      "Epoch 134/150\n",
      "160/160 [==============================] - 0s 213us/step - loss: 0.0059\n",
      "Epoch 135/150\n",
      "160/160 [==============================] - 0s 210us/step - loss: 0.0059\n",
      "Epoch 136/150\n",
      "160/160 [==============================] - 0s 200us/step - loss: 0.0059\n",
      "Epoch 137/150\n",
      "160/160 [==============================] - 0s 156us/step - loss: 0.0059\n",
      "Epoch 138/150\n",
      "160/160 [==============================] - 0s 141us/step - loss: 0.0059\n",
      "Epoch 139/150\n",
      "160/160 [==============================] - 0s 142us/step - loss: 0.0059\n",
      "Epoch 140/150\n",
      "160/160 [==============================] - 0s 169us/step - loss: 0.0059\n",
      "Epoch 141/150\n",
      "160/160 [==============================] - 0s 150us/step - loss: 0.0059\n",
      "Epoch 142/150\n",
      "160/160 [==============================] - 0s 163us/step - loss: 0.0059\n",
      "Epoch 143/150\n",
      "160/160 [==============================] - 0s 169us/step - loss: 0.0059\n",
      "Epoch 144/150\n",
      "160/160 [==============================] - 0s 156us/step - loss: 0.0059\n",
      "Epoch 145/150\n",
      "160/160 [==============================] - 0s 156us/step - loss: 0.0059\n",
      "Epoch 146/150\n",
      "160/160 [==============================] - 0s 164us/step - loss: 0.0059\n",
      "Epoch 147/150\n",
      "160/160 [==============================] - 0s 156us/step - loss: 0.0059\n",
      "Epoch 148/150\n",
      "160/160 [==============================] - 0s 150us/step - loss: 0.0059\n",
      "Epoch 149/150\n",
      "160/160 [==============================] - 0s 166us/step - loss: 0.0059\n",
      "Epoch 150/150\n",
      "160/160 [==============================] - 0s 144us/step - loss: 0.0059\n"
     ]
    },
    {
     "data": {
      "text/plain": [
       "<keras.callbacks.callbacks.History at 0x190b1590f98>"
      ]
     },
     "execution_count": 16,
     "metadata": {},
     "output_type": "execute_result"
    }
   ],
   "source": [
    "model.fit(x_train, y_train, epochs=150, batch_size=10)"
   ]
  },
  {
   "cell_type": "code",
   "execution_count": 17,
   "metadata": {},
   "outputs": [
    {
     "name": "stdout",
     "output_type": "stream",
     "text": [
      "[[0.07934193]\n",
      " [0.08067493]\n",
      " [0.08012244]\n",
      " [0.08004351]\n",
      " [0.08073632]]\n"
     ]
    }
   ],
   "source": [
    "# predicting\n",
    "y_pred = model.predict(x_test)\n",
    "print (y_pred[0:5])"
   ]
  },
  {
   "cell_type": "code",
   "execution_count": 22,
   "metadata": {},
   "outputs": [
    {
     "data": {
      "text/plain": [
       "0.006407729"
      ]
     },
     "execution_count": 22,
     "metadata": {},
     "output_type": "execute_result"
    }
   ],
   "source": [
    "# d for neural network (c)\n",
    "mse = tf.keras.losses.MeanSquaredError()\n",
    "mse(y_test, y_pred).numpy()"
   ]
  },
  {
   "cell_type": "code",
   "execution_count": 23,
   "metadata": {},
   "outputs": [
    {
     "data": {
      "image/png": "[encoded data removed]",
      "text/plain": [
       "<Figure size 576x360 with 1 Axes>"
      ]
     },
     "metadata": {
      "needs_background": "light"
     },
     "output_type": "display_data"
    }
   ],
   "source": [
    "# e\n",
    "# plotting LR\n",
    "plt.figure(figsize=(8,5))\n",
    "plt.scatter(x_data,y_data,s=10)\n",
    "plt.plot(x_data,yhat,color='r')\n",
    "plt.xlabel('x_data')\n",
    "plt.ylabel('y_data')\n",
    "plt.show()"
   ]
  },
  {
   "cell_type": "code",
   "execution_count": 24,
   "metadata": {},
   "outputs": [
    {
     "data": {
      "image/png": "[encoded data removed]",
      "text/plain": [
       "<Figure size 576x432 with 1 Axes>"
      ]
     },
     "metadata": {
      "needs_background": "light"
     },
     "output_type": "display_data"
    }
   ],
   "source": [
    "#plotting polynomial model\n",
    "\n",
    "plt.figure(figsize=(8,6))\n",
    "plt.scatter(x_data,y_data,s=10)\n",
    "plt.plot(x_data,poly_hat,color='r')\n",
    "plt.xlabel('x_data')\n",
    "plt.ylabel('y_data')\n",
    "plt.show()"
   ]
  },
  {
   "cell_type": "markdown",
   "metadata": {},
   "source": [
    "### Comparing the results- MSE for three different models"
   ]
  },
  {
   "cell_type": "markdown",
   "metadata": {},
   "source": [
    "| Models | MSE |\n",
    "| --- | --- |\n",
    "| Linear Regression | 0.005961980133794211 |\n",
    "| Polynomial | 0.00039102911736128447 |\n",
    "| 3-layer Neural Network | 0.006407729 |"
   ]
  },
  {
   "cell_type": "markdown",
   "metadata": {},
   "source": [
    "#### Baswed on above table, Polynomial model has the lowest MSE and we know that the lowest MSE, the better prediction"
   ]
  },
  {
   "cell_type": "code",
   "execution_count": null,
   "metadata": {},
   "outputs": [],
   "source": []
  }
 ],
 "metadata": {
  "kernelspec": {
   "display_name": "Python 3",
   "language": "python",
   "name": "python3"
  },
  "language_info": {
   "codemirror_mode": {
    "name": "ipython",
    "version": 3
   },
   "file_extension": ".py",
   "mimetype": "text/x-python",
   "name": "python",
   "nbconvert_exporter": "python",
   "pygments_lexer": "ipython3",
   "version": "3.7.3"
  }
 },
 "nbformat": 4,
 "nbformat_minor": 2
}
